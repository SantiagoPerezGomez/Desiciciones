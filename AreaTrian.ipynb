{
  "nbformat": 4,
  "nbformat_minor": 0,
  "metadata": {
    "colab": {
      "provenance": []
    },
    "kernelspec": {
      "name": "python3",
      "display_name": "Python 3"
    },
    "language_info": {
      "name": "python"
    }
  },
  "cells": [
    {
      "cell_type": "code",
      "execution_count": null,
      "metadata": {
        "id": "7QJXY6LOlGod"
      },
      "outputs": [],
      "source": [
        "ladoA_int=0\n",
        "ladoB_int=0\n",
        "ladoC_int=0\n",
        "ladoS_int=0"
      ]
    },
    {
      "cell_type": "code",
      "source": [
        "#entradas\n",
        "ladoA_int= int(print(\"Ingrese lado A del triangulo\"))\n",
        "ladoB_int= int(print(\"Ingrese lado B del triangulo\"))\n",
        "ladoC_int= int(print(\"Ingrese lado C del triangulo\"))\n",
        "ladoS_int= int(print(\"Ingrese sempiperimetro del triangulo\"))"
      ],
      "metadata": {
        "id": "qfwh8kH-lJOp"
      },
      "execution_count": null,
      "outputs": []
    }
  ]
}