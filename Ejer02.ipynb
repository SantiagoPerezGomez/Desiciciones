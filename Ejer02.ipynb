{
  "nbformat": 4,
  "nbformat_minor": 0,
  "metadata": {
    "colab": {
      "provenance": []
    },
    "kernelspec": {
      "name": "python3",
      "display_name": "Python 3"
    },
    "language_info": {
      "name": "python"
    }
  },
  "cells": [
    {
      "cell_type": "code",
      "execution_count": null,
      "metadata": {
        "id": "L5G-1IHAlq3l"
      },
      "outputs": [],
      "source": [
        "#declaracion de variables\n",
        "var_pro_int_conCic = 0\n",
        "var_ent_int_finciclo=0"
      ]
    },
    {
      "cell_type": "code",
      "source": [
        "var_ent_int_conCic = int(input(\"Digite inicio del ciclo: \"))\n",
        "var_ent_int_finciclo = int(input(\"Digite fin del ciclo: \"))\n"
      ],
      "metadata": {
        "id": "mSESefygltCR"
      },
      "execution_count": null,
      "outputs": []
    },
    {
      "cell_type": "code",
      "source": [
        "for var_pro_int_conCic in range(var_ent_int_finciclo):\n",
        "  print(var_pro_int_conCic)"
      ],
      "metadata": {
        "id": "BfTU8y4llvDF"
      },
      "execution_count": null,
      "outputs": []
    },
    {
      "cell_type": "code",
      "source": [
        "suma=0\n",
        "numero=0\n",
        "cantidad= int(input(\"Digite cantidad de numeros \"))\n",
        "for i in range(cantidad):\n",
        "  numero= int(input(\"digite un numero: \"))\n",
        "  suma= suma+numero\n",
        "print(\"el total es:\",suma)\n",
        "promedio=suma/(i+1)\n",
        "print(\"el promedio es\",promedio)"
      ],
      "metadata": {
        "id": "MX-cjmMUlze2"
      },
      "execution_count": null,
      "outputs": []
    }
  ]
}