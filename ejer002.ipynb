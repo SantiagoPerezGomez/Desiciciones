{
  "nbformat": 4,
  "nbformat_minor": 0,
  "metadata": {
    "colab": {
      "provenance": []
    },
    "kernelspec": {
      "name": "python3",
      "display_name": "Python 3"
    },
    "language_info": {
      "name": "python"
    }
  },
  "cells": [
    {
      "cell_type": "code",
      "execution_count": null,
      "metadata": {
        "id": "YLqrdVASmAUy"
      },
      "outputs": [],
      "source": [
        "print(\"como te llamas\")\n",
        "nombre = input()\n",
        "print(f\"me alegro de conocerlo {nombre}\")"
      ]
    },
    {
      "cell_type": "code",
      "source": [
        " vi=int(input(\"Ingrese velocidad Inicial de la formula 1: \"))\n",
        " vf=int(input(\"Ingrese velocidad Final de la formula 2: \"))\n",
        " tmp=int(input(\"Ingrese en cuanto teimpo recorrio la formula 1: \"))\n",
        " resultado = (vf - vi)/tmp"
      ],
      "metadata": {
        "id": "g5F07fWPmCBC"
      },
      "execution_count": null,
      "outputs": []
    }
  ]
}